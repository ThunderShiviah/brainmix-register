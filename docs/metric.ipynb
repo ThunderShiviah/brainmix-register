{
 "cells": [
  {
   "cell_type": "markdown",
   "metadata": {},
   "source": [
    "## Similarity measure for image registration\n",
    "From wiki:\n",
    ">Image similarities are broadly used in medical imaging. An image similarity measure quantifies the degree of similarity between intensity patterns in two images.[2] The choice of an image similarity measure depends on the modality of the images to be registered. Common examples of image similarity measures include cross-correlation, mutual information, sum of squared intensity differences, and ratio image uniformity. Mutual information and normalized mutual information are the most popular image similarity measures for registration of multimodality images. Cross-correlation, sum of squared intensity differences and ratio image uniformity are commonly used for registration of images in the same modality."
   ]
  },
  {
   "cell_type": "code",
   "execution_count": null,
   "metadata": {
    "collapsed": false
   },
   "outputs": [],
   "source": [
    "cd ../brainmix_register/"
   ]
  },
  {
   "cell_type": "code",
   "execution_count": null,
   "metadata": {
    "collapsed": false
   },
   "outputs": [],
   "source": [
    "import numpy as np\n",
    "import matplotlib\n",
    "import matplotlib.pyplot as plt\n",
    "\n",
    "from skimage import data, img_as_float\n",
    "from skimage.measure import structural_similarity as ssim\n",
    "from skimage.feature import register_translation\n",
    "from skimage.feature.register_translation import _upsampled_dft\n",
    "from scipy.ndimage.fourier import fourier_shift\n",
    "import registration as reg\n",
    "\n",
    "import os, glob\n",
    "from skimage import io\n",
    "%matplotlib inline \n",
    "\n",
    "matplotlib.rcParams['font.size'] = 9\n",
    "\n",
    "def mse(x, y):\n",
    "    return np.linalg.norm(x - y)\n",
    "\n"
   ]
  },
  {
   "cell_type": "code",
   "execution_count": null,
   "metadata": {
    "collapsed": false
   },
   "outputs": [],
   "source": [
    "#---------Create registration stack------------\n",
    "inputDir = '../data/test/'\n",
    "imageFiles = glob.glob(os.path.join(inputDir, '*.jpg'))\n",
    "imageVolume = io.ImageCollection(imageFiles, as_grey=True).concatenate()\n",
    "stack = imageVolume\n",
    "\n",
    "reg_stack = reg.registration(stack)"
   ]
  },
  {
   "cell_type": "code",
   "execution_count": null,
   "metadata": {
    "collapsed": false
   },
   "outputs": [],
   "source": [
    "io.imshow(reg_stack[2])"
   ]
  },
  {
   "cell_type": "code",
   "execution_count": null,
   "metadata": {
    "collapsed": false
   },
   "outputs": [],
   "source": [
    "img = stack[0]\n",
    "reg_img = reg_stack[0]\n",
    "\n",
    "mse_none = mse(img, img)\n",
    "ssim_none = ssim(img, img)\n",
    "\n",
    "mse_reg = mse(img, reg_img)\n",
    "ssim_reg = ssim(img, reg_img)\n",
    "\n",
    "label = 'MSE: %2.f, SSIM: %.2f'\n",
    "\n",
    "fig, (ax0, ax1) = plt.subplots(nrows=1, ncols=2, figsize=(8, 4))\n",
    "\n",
    "ax0.imshow(img, cmap=plt.cm.gray, vmin=0, vmax=1)\n",
    "ax0.set_xlabel(label % (mse_none, ssim_none))\n",
    "ax0.set_title('Original image')\n",
    "\n",
    "ax1.imshow(reg_img, cmap=plt.cm.gray, vmin=0, vmax=1)\n",
    "ax1.set_xlabel(label % (mse_reg, ssim_reg))\n",
    "ax1.set_title('Registered image')"
   ]
  },
  {
   "cell_type": "code",
   "execution_count": null,
   "metadata": {
    "collapsed": false
   },
   "outputs": [],
   "source": [
    "src = stack[0]\n",
    "img = stack[1]\n",
    "reg_img = reg_stack[1]\n",
    "\n",
    "mse_none = mse(src, img)\n",
    "ssim_none = ssim(src, img)\n",
    "\n",
    "mse_reg = mse(src, reg_img)\n",
    "ssim_reg = ssim(src, reg_img)\n",
    "\n",
    "label = 'MSE: %2.f, SSIM: %.2f'\n",
    "\n",
    "fig, (ax0, ax1) = plt.subplots(nrows=1, ncols=2, figsize=(8, 4))\n",
    "\n",
    "ax0.imshow(img, cmap=plt.cm.gray, vmin=0, vmax=1)\n",
    "ax0.set_xlabel(label % (mse_none, ssim_none))\n",
    "ax0.set_title('Original image')\n",
    "\n",
    "ax1.imshow(reg_img, cmap=plt.cm.gray, vmin=0, vmax=1)\n",
    "ax1.set_xlabel(label % (mse_reg, ssim_reg))\n",
    "ax1.set_title('Registered image')"
   ]
  },
  {
   "cell_type": "code",
   "execution_count": null,
   "metadata": {
    "collapsed": false
   },
   "outputs": [],
   "source": [
    "src = stack[0]\n",
    "img = stack[2]\n",
    "reg_img = reg_stack[2]\n",
    "\n",
    "mse_none = mse(src, img)\n",
    "ssim_none = ssim(src, img)\n",
    "\n",
    "mse_reg = mse(src, reg_img)\n",
    "ssim_reg = ssim(src, reg_img)\n",
    "\n",
    "label = 'MSE: %2.f, SSIM: %.2f'\n",
    "\n",
    "fig, (ax0, ax1) = plt.subplots(nrows=1, ncols=2, figsize=(8, 4))\n",
    "\n",
    "ax0.imshow(img, cmap=plt.cm.gray, vmin=0, vmax=1)\n",
    "ax0.set_xlabel(label % (mse_none, ssim_none))\n",
    "ax0.set_title('Original image')\n",
    "\n",
    "ax1.imshow(reg_img, cmap=plt.cm.gray, vmin=0, vmax=1)\n",
    "ax1.set_xlabel(label % (mse_reg, ssim_reg))\n",
    "ax1.set_title('Registered image')"
   ]
  },
  {
   "cell_type": "code",
   "execution_count": null,
   "metadata": {
    "collapsed": false
   },
   "outputs": [],
   "source": [
    "#----------Control image (image registered to itself)--------\n",
    "src = stack[0]\n",
    "reg_img = reg_stack[0]\n",
    "\n",
    "fig, (ax1, ax2, ax3) = plt.subplots(ncols=3, figsize=(8, 3))\n",
    "\n",
    "shift, error, diffphase = register_translation(src, reg_img)\n",
    "\n",
    "ax1.imshow(src)\n",
    "ax1.set_axis_off()\n",
    "ax1.set_title('Reference image')\n",
    "\n",
    "ax2.imshow(reg_img.real)\n",
    "ax2.set_axis_off()\n",
    "ax2.set_title('Offset image')\n",
    "\n",
    "# View the output of a cross-correlation to show what the algorithm is\n",
    "#    doing behind the scenes\n",
    "\n",
    "\n",
    "image_product = np.fft.fft2(src) * np.fft.fft2(reg_img).conj()\n",
    "cc_image = np.fft.fftshift(np.fft.ifft2(image_product))\n",
    "ax3.imshow(cc_image.real)\n",
    "ax3.set_axis_off()\n",
    "ax3.set_title(\"Cross-correlation\")"
   ]
  },
  {
   "cell_type": "code",
   "execution_count": null,
   "metadata": {
    "collapsed": false
   },
   "outputs": [],
   "source": [
    "image = src\n",
    "offset_image = reg_img\n",
    "\n",
    "# subpixel precision\n",
    "shift, error, diffphase = register_translation(image, offset_image, 100)\n",
    "\n",
    "fig, (ax1, ax2, ax3) = plt.subplots(ncols=3, figsize=(8, 3))\n",
    "\n",
    "ax1.imshow(image)\n",
    "ax1.set_axis_off()\n",
    "ax1.set_title('Reference image')\n",
    "\n",
    "ax2.imshow(offset_image.real)\n",
    "ax2.set_axis_off()\n",
    "ax2.set_title('Offset image')\n",
    "\n",
    "# Calculate the upsampled DFT, again to show what the algorithm is doing\n",
    "#    behind the scenes.  Constants correspond to calculated values in routine.\n",
    "#    See source code for details.\n",
    "cc_image = _upsampled_dft(image_product, 150, 100, (shift*100)+75).conj()\n",
    "ax3.imshow(cc_image.real)\n",
    "ax3.set_axis_off()\n",
    "ax3.set_title(\"Supersampled XC sub-area\")\n",
    "\n",
    "\n",
    "plt.show()\n",
    "\n",
    "print(\"Detected subpixel offset (y, x):\")\n",
    "print(shift)"
   ]
  },
  {
   "cell_type": "code",
   "execution_count": null,
   "metadata": {
    "collapsed": false
   },
   "outputs": [],
   "source": [
    "image = src\n",
    "offset_image = reg_img\n",
    "\n",
    "# subpixel precision\n",
    "shift, error, diffphase = register_translation(image, offset_image, 100)\n",
    "\n",
    "fig, (ax1, ax2, ax3) = plt.subplots(ncols=3, figsize=(8, 3))\n",
    "\n",
    "ax1.imshow(image)\n",
    "ax1.set_axis_off()\n",
    "ax1.set_title('Reference image')\n",
    "\n",
    "ax2.imshow(offset_image.real)\n",
    "ax2.set_axis_off()\n",
    "ax2.set_title('Offset image')\n",
    "\n",
    "# Calculate the upsampled DFT, again to show what the algorithm is doing\n",
    "#    behind the scenes.  Constants correspond to calculated values in routine.\n",
    "#    See source code for details.\n",
    "cc_image = _upsampled_dft(image_product, 150, 100, (shift*100)+75).conj()\n",
    "ax3.imshow(cc_image.real)\n",
    "ax3.set_axis_off()\n",
    "ax3.set_title(\"Supersampled XC sub-area\")\n",
    "\n",
    "\n",
    "plt.show()\n",
    "\n",
    "print(\"Detected subpixel offset (y, x):\")\n",
    "print(shift)"
   ]
  },
  {
   "cell_type": "code",
   "execution_count": null,
   "metadata": {
    "collapsed": false
   },
   "outputs": [],
   "source": [
    "#------Unregistered image---------\n",
    "src = stack[0]\n",
    "reg_img = stack[2] #Use unregistered image\n",
    "\n",
    "fig, (ax1, ax2, ax3) = plt.subplots(ncols=3, figsize=(8, 3))\n",
    "\n",
    "shift, error, diffphase = register_translation(src, reg_img)\n",
    "\n",
    "ax1.imshow(src)\n",
    "ax1.set_axis_off()\n",
    "ax1.set_title('Reference image')\n",
    "\n",
    "ax2.imshow(reg_img.real)\n",
    "ax2.set_axis_off()\n",
    "ax2.set_title('Offset image')\n",
    "\n",
    "# View the output of a cross-correlation to show what the algorithm is\n",
    "#    doing behind the scenes\n",
    "\n",
    "\n",
    "image_product = np.fft.fft2(src) * np.fft.fft2(reg_img).conj()\n",
    "cc_image = np.fft.fftshift(np.fft.ifft2(image_product))\n",
    "ax3.imshow(cc_image.real)\n",
    "ax3.set_axis_off()\n",
    "ax3.set_title(\"Cross-correlation\")"
   ]
  },
  {
   "cell_type": "code",
   "execution_count": null,
   "metadata": {
    "collapsed": false
   },
   "outputs": [],
   "source": [
    "image = src\n",
    "offset_image = reg_img\n",
    "\n",
    "# subpixel precision\n",
    "shift, error, diffphase = register_translation(image, offset_image, 100)\n",
    "\n",
    "fig, (ax1, ax2, ax3) = plt.subplots(ncols=3, figsize=(8, 3))\n",
    "\n",
    "ax1.imshow(image)\n",
    "ax1.set_axis_off()\n",
    "ax1.set_title('Reference image')\n",
    "\n",
    "ax2.imshow(offset_image.real)\n",
    "ax2.set_axis_off()\n",
    "ax2.set_title('Offset image')\n",
    "\n",
    "# Calculate the upsampled DFT, again to show what the algorithm is doing\n",
    "#    behind the scenes.  Constants correspond to calculated values in routine.\n",
    "#    See source code for details.\n",
    "cc_image = _upsampled_dft(image_product, 150, 100, (shift*100)+75).conj()\n",
    "ax3.imshow(cc_image.real)\n",
    "ax3.set_axis_off()\n",
    "ax3.set_title(\"Supersampled XC sub-area\")\n",
    "\n",
    "\n",
    "plt.show()\n",
    "\n",
    "print(\"Detected subpixel offset (y, x):\")\n",
    "print(shift)"
   ]
  },
  {
   "cell_type": "code",
   "execution_count": null,
   "metadata": {
    "collapsed": false
   },
   "outputs": [],
   "source": [
    "#-------------Registered image--------------\n",
    "src = stack[0]\n",
    "reg_img = reg_stack[2] #Use unregistered image\n",
    "\n",
    "fig, (ax1, ax2, ax3) = plt.subplots(ncols=3, figsize=(8, 3))\n",
    "\n",
    "shift, error, diffphase = register_translation(src, reg_img)\n",
    "\n",
    "ax1.imshow(src)\n",
    "ax1.set_axis_off()\n",
    "ax1.set_title('Reference image')\n",
    "\n",
    "ax2.imshow(reg_img.real)\n",
    "ax2.set_axis_off()\n",
    "ax2.set_title('Offset image')\n",
    "\n",
    "# View the output of a cross-correlation to show what the algorithm is\n",
    "#    doing behind the scenes\n",
    "\n",
    "\n",
    "image_product = np.fft.fft2(src) * np.fft.fft2(reg_img).conj()\n",
    "cc_image = np.fft.fftshift(np.fft.ifft2(image_product))\n",
    "ax3.imshow(cc_image.real)\n",
    "ax3.set_axis_off()\n",
    "ax3.set_title(\"Cross-correlation\")"
   ]
  },
  {
   "cell_type": "code",
   "execution_count": null,
   "metadata": {
    "collapsed": false
   },
   "outputs": [],
   "source": [
    "image = src\n",
    "offset_image = reg_img\n",
    "\n",
    "# subpixel precision\n",
    "shift, error, diffphase = register_translation(image, offset_image, 100)\n",
    "\n",
    "fig, (ax1, ax2, ax3) = plt.subplots(ncols=3, figsize=(8, 3))\n",
    "\n",
    "ax1.imshow(image)\n",
    "ax1.set_axis_off()\n",
    "ax1.set_title('Reference image')\n",
    "\n",
    "ax2.imshow(offset_image.real)\n",
    "ax2.set_axis_off()\n",
    "ax2.set_title('Offset image')\n",
    "\n",
    "# Calculate the upsampled DFT, again to show what the algorithm is doing\n",
    "#    behind the scenes.  Constants correspond to calculated values in routine.\n",
    "#    See source code for details.\n",
    "cc_image = _upsampled_dft(image_product, 150, 100, (shift*100)+75).conj()\n",
    "ax3.imshow(cc_image.real)\n",
    "ax3.set_axis_off()\n",
    "ax3.set_title(\"Supersampled XC sub-area\")\n",
    "\n",
    "\n",
    "plt.show()\n",
    "\n",
    "print(\"Detected subpixel offset (y, x):\")\n",
    "print(shift)"
   ]
  },
  {
   "cell_type": "code",
   "execution_count": null,
   "metadata": {
    "collapsed": true
   },
   "outputs": [],
   "source": []
  }
 ],
 "metadata": {
  "kernelspec": {
   "display_name": "Python 2",
   "language": "python",
   "name": "python2"
  },
  "language_info": {
   "codemirror_mode": {
    "name": "ipython",
    "version": 2
   },
   "file_extension": ".py",
   "mimetype": "text/x-python",
   "name": "python",
   "nbconvert_exporter": "python",
   "pygments_lexer": "ipython2",
   "version": "2.7.9"
  }
 },
 "nbformat": 4,
 "nbformat_minor": 0
}
